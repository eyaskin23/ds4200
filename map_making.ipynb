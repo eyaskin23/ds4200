{
 "cells": [
  {
   "cell_type": "markdown",
   "id": "721327cd",
   "metadata": {},
   "source": [
    "## Map making in Python\n",
    "\n",
    "Map making in Python involves utilizing various libraries and tools to create visually appealing and informative maps for geospatial analysis and visualization. One of the key libraries used for this purpose is GeoPandas, which extends the capabilities of Pandas to support geospatial data. GeoPandas allows users to easily read, manipulate, analyze, and visualize geospatial datasets, such as shapefiles and GeoJSON files. With GeoPandas, users can perform operations like overlaying multiple layers, creating choropleth maps, and adding custom markers to maps. By leveraging the power of Matplotlib, Folium, and other visualization libraries, Python users can create interactive and static maps that effectively communicate spatial patterns, trends, and insights. Whether for academic research, urban planning, environmental monitoring, or business intelligence, map making in Python with GeoPandas offers a versatile and efficient solution for geospatial data analysis and visualization needs.\n",
    "\n",
    "In the lecture, we will cover\n",
    "- the format for geospatial data\n",
    "- reading and processing geospatial data\n",
    "- creating choropleth maps\n",
    "- cutomizing the color and legend\n",
    "- adding multiple layers to the maps\n",
    "- creating interactive maps"
   ]
  },
  {
   "cell_type": "code",
   "execution_count": 26,
   "id": "caa82323",
   "metadata": {},
   "outputs": [],
   "source": [
    "#pip install geopandas geodatasets folium mapclassify"
   ]
  },
  {
   "cell_type": "markdown",
   "id": "0a2db554-f7ab-4030-a14c-f2af04a6edf8",
   "metadata": {},
   "source": [
    "### Geospatial data resource and format\n",
    "\n",
    "A .shp file, short for Shapefile, is a commonly used file format in geospatial data analysis and mapping. It stores vector data, including points, lines, and polygons, along with associated attributes. Shapefiles are widely supported by GIS (Geographic Information Systems) software and libraries, making them a popular choice for storing and sharing geospatial datasets. They consist of multiple files, including a main .shp file containing the geometric data, a .shx file containing the shape index, and a .dbf file containing attribute data. "
   ]
  },
  {
   "cell_type": "markdown",
   "id": "43f6249b-b8c9-4c14-b293-15ffe3336b4f",
   "metadata": {},
   "source": [
    "#### Plotly\n",
    "\n",
    "Plotly is a powerful library in Python for creating interactive maps and visualizations. It offers built-in support for various types of maps, including scatter plots on geographical coordinates, choropleth maps (where regions are shaded according to data values), and bubble maps that vary point sizes based on metrics. With Plotly’s intuitive API, users can quickly create maps by linking datasets with country codes, state abbreviations, or latitude and longitude coordinates. The library supports multiple map projections such as Mercator, orthographic, and natural earth, enabling diverse applications like global visualizations and regional analytics. Plotly’s interactivity enhances user experience, allowing zooming, panning, and hovering over points to display contextual information. Additionally, maps can be customized with colors, titles, and tooltips, and they can be embedded in web applications or exported as HTML for seamless sharing. "
   ]
  },
  {
   "cell_type": "code",
   "execution_count": 1,
   "id": "18bd8f77-d2d3-4b6d-9445-7446ef8120e2",
   "metadata": {},
   "outputs": [
    {
     "data": {
      "text/html": [
       "<div>\n",
       "<style scoped>\n",
       "    .dataframe tbody tr th:only-of-type {\n",
       "        vertical-align: middle;\n",
       "    }\n",
       "\n",
       "    .dataframe tbody tr th {\n",
       "        vertical-align: top;\n",
       "    }\n",
       "\n",
       "    .dataframe thead th {\n",
       "        text-align: right;\n",
       "    }\n",
       "</style>\n",
       "<table border=\"1\" class=\"dataframe\">\n",
       "  <thead>\n",
       "    <tr style=\"text-align: right;\">\n",
       "      <th></th>\n",
       "      <th>State</th>\n",
       "      <th>Violent_Crime</th>\n",
       "      <th>Murder_Rate</th>\n",
       "      <th>Poverty</th>\n",
       "      <th>High_School</th>\n",
       "      <th>College</th>\n",
       "      <th>Single_Parent</th>\n",
       "      <th>Unemployed</th>\n",
       "      <th>Metropolitan</th>\n",
       "    </tr>\n",
       "  </thead>\n",
       "  <tbody>\n",
       "    <tr>\n",
       "      <th>0</th>\n",
       "      <td>Alabama</td>\n",
       "      <td>486</td>\n",
       "      <td>7.4</td>\n",
       "      <td>14.7</td>\n",
       "      <td>77.5</td>\n",
       "      <td>20.4</td>\n",
       "      <td>26.0</td>\n",
       "      <td>4.6</td>\n",
       "      <td>70.2</td>\n",
       "    </tr>\n",
       "    <tr>\n",
       "      <th>1</th>\n",
       "      <td>Alaska</td>\n",
       "      <td>567</td>\n",
       "      <td>4.3</td>\n",
       "      <td>8.4</td>\n",
       "      <td>90.4</td>\n",
       "      <td>28.1</td>\n",
       "      <td>23.2</td>\n",
       "      <td>6.6</td>\n",
       "      <td>41.6</td>\n",
       "    </tr>\n",
       "    <tr>\n",
       "      <th>2</th>\n",
       "      <td>Arizona</td>\n",
       "      <td>532</td>\n",
       "      <td>7.0</td>\n",
       "      <td>13.5</td>\n",
       "      <td>85.1</td>\n",
       "      <td>24.6</td>\n",
       "      <td>23.5</td>\n",
       "      <td>3.9</td>\n",
       "      <td>87.9</td>\n",
       "    </tr>\n",
       "    <tr>\n",
       "      <th>3</th>\n",
       "      <td>Arkansas</td>\n",
       "      <td>445</td>\n",
       "      <td>6.3</td>\n",
       "      <td>15.8</td>\n",
       "      <td>81.7</td>\n",
       "      <td>18.4</td>\n",
       "      <td>24.7</td>\n",
       "      <td>4.4</td>\n",
       "      <td>49.0</td>\n",
       "    </tr>\n",
       "    <tr>\n",
       "      <th>4</th>\n",
       "      <td>California</td>\n",
       "      <td>622</td>\n",
       "      <td>6.1</td>\n",
       "      <td>14.0</td>\n",
       "      <td>81.2</td>\n",
       "      <td>27.5</td>\n",
       "      <td>21.8</td>\n",
       "      <td>4.9</td>\n",
       "      <td>96.7</td>\n",
       "    </tr>\n",
       "  </tbody>\n",
       "</table>\n",
       "</div>"
      ],
      "text/plain": [
       "        State  Violent_Crime  Murder_Rate  Poverty  High_School  College  \\\n",
       "0     Alabama            486          7.4     14.7         77.5     20.4   \n",
       "1      Alaska            567          4.3      8.4         90.4     28.1   \n",
       "2     Arizona            532          7.0     13.5         85.1     24.6   \n",
       "3    Arkansas            445          6.3     15.8         81.7     18.4   \n",
       "4  California            622          6.1     14.0         81.2     27.5   \n",
       "\n",
       "   Single_Parent  Unemployed  Metropolitan  \n",
       "0           26.0         4.6          70.2  \n",
       "1           23.2         6.6          41.6  \n",
       "2           23.5         3.9          87.9  \n",
       "3           24.7         4.4          49.0  \n",
       "4           21.8         4.9          96.7  "
      ]
     },
     "execution_count": 1,
     "metadata": {},
     "output_type": "execute_result"
    }
   ],
   "source": [
    "import pandas as pd\n",
    "import plotly.express as px\n",
    "\n",
    "crime = pd.read_csv(\"us_statewide_crime.csv\")\n",
    "crime.head()"
   ]
  },
  {
   "cell_type": "code",
   "execution_count": 2,
   "id": "b39d4c9d-06d9-4f5e-bbf1-c482660553d3",
   "metadata": {},
   "outputs": [],
   "source": [
    "state_abbreviations = {\n",
    "    'Alabama': 'AL', 'Alaska': 'AK', 'Arizona': 'AZ', 'Arkansas': 'AR', 'California': 'CA',\n",
    "    'Colorado': 'CO', 'Connecticut': 'CT', 'Delaware': 'DE', 'Florida': 'FL', 'Georgia': 'GA',\n",
    "    'Hawaii': 'HI', 'Idaho': 'ID', 'Illinois': 'IL', 'Indiana': 'IN', 'Iowa': 'IA',\n",
    "    'Kansas': 'KS', 'Kentucky': 'KY', 'Louisiana': 'LA', 'Maine': 'ME', 'Maryland': 'MD',\n",
    "    'Massachusetts': 'MA', 'Michigan': 'MI', 'Minnesota': 'MN', 'Mississippi': 'MS',\n",
    "    'Missouri': 'MO', 'Montana': 'MT', 'Nebraska': 'NE', 'Nevada': 'NV', 'New Hampshire': 'NH',\n",
    "    'New Jersey': 'NJ', 'New Mexico': 'NM', 'New York': 'NY', 'North Carolina': 'NC',\n",
    "    'North Dakota': 'ND', 'Ohio': 'OH', 'Oklahoma': 'OK', 'Oregon': 'OR', 'Pennsylvania': 'PA',\n",
    "    'Rhode Island': 'RI', 'South Carolina': 'SC', 'South Dakota': 'SD', 'Tennessee': 'TN',\n",
    "    'Texas': 'TX', 'Utah': 'UT', 'Vermont': 'VT', 'Virginia': 'VA', 'Washington': 'WA',\n",
    "    'West Virginia': 'WV', 'Wisconsin': 'WI', 'Wyoming': 'WY', 'District of Columbia': 'DC'\n",
    "}\n",
    "\n",
    "# Create a new column with state abbreviations\n",
    "crime['Code'] = crime['State'].map(state_abbreviations)"
   ]
  },
  {
   "cell_type": "code",
   "execution_count": null,
   "id": "27471d7a-4837-4596-a34c-af1534df967c",
   "metadata": {},
   "outputs": [],
   "source": []
  },
  {
   "cell_type": "markdown",
   "id": "9f1681af-574c-40f7-bd34-5457d9ba9ec7",
   "metadata": {},
   "source": [
    "| **Map Type**               | **Key Parameters**                                      | **Scope/Mode**              |\n",
    "|----------------------------|--------------------------------------------------------|-----------------------------|\n",
    "| **State-Level US Map**      | `locations='Code'`, `locationmode='USA-states'`         | `scope='usa'`               |\n",
    "| **County-Level US Map**     | `locations='FIPS'`, `locationmode='USA-counties'`       | `scope='usa'`               |\n",
    "| **World Map**               | `locations='iso_alpha'`, `projection='natural earth'`   | Global                      |\n",
    "| **Scatter Map**             | `lat='Latitude'`, `lon='Longitude'`                    | Global or Regional          |\n",
    "| **Region Maps**             | `scope='europe'`, `locations='iso_alpha'`              | Europe, Africa, Asia, etc.  |\n",
    "| **Bubble Map**              | `size='Value'`, `lat`, `lon`                           | Global or Regional          |\n",
    "| **Heatmap on Map**          | `z='Value'`, `lat`, `lon`                              | Mapbox                      |"
   ]
  },
  {
   "cell_type": "markdown",
   "id": "bcd452cb",
   "metadata": {},
   "source": [
    "#### Geoda\n",
    "\n",
    "GeoDa, short for Geographic Data Analysis, is a powerful open-source software tool designed for exploratory spatial data analysis (ESDA). In this lecture, we will use the geospatial data from\n",
    "\n",
    "https://www.naturalearthdata.com/downloads/\n",
    "\n",
    "https://geodacenter.github.io/data-and-lab/"
   ]
  },
  {
   "cell_type": "code",
   "execution_count": 15,
   "id": "2b8c67e6",
   "metadata": {},
   "outputs": [],
   "source": [
    "import geopandas \n",
    "import geodatasets\n"
   ]
  },
  {
   "cell_type": "code",
   "execution_count": null,
   "id": "81695cd7",
   "metadata": {},
   "outputs": [],
   "source": []
  },
  {
   "cell_type": "markdown",
   "id": "45062886",
   "metadata": {},
   "source": [
    "#### Create the geospatial data from columns"
   ]
  },
  {
   "cell_type": "code",
   "execution_count": 16,
   "id": "8efbe7b1",
   "metadata": {},
   "outputs": [],
   "source": [
    "from shapely.geometry import Point\n",
    "\n"
   ]
  },
  {
   "cell_type": "markdown",
   "id": "e8d5c88c",
   "metadata": {},
   "source": [
    "#### Merge the geospatial data with attributes"
   ]
  },
  {
   "cell_type": "code",
   "execution_count": 17,
   "id": "872b649b",
   "metadata": {},
   "outputs": [],
   "source": [
    "import pandas as pd\n",
    "\n"
   ]
  },
  {
   "cell_type": "code",
   "execution_count": null,
   "id": "19a2184b",
   "metadata": {},
   "outputs": [],
   "source": []
  },
  {
   "cell_type": "code",
   "execution_count": null,
   "id": "20f9e9d2",
   "metadata": {},
   "outputs": [],
   "source": []
  },
  {
   "cell_type": "code",
   "execution_count": 18,
   "id": "fdb23c5b",
   "metadata": {},
   "outputs": [],
   "source": [
    "import pandas as pd\n"
   ]
  },
  {
   "cell_type": "code",
   "execution_count": null,
   "id": "f8772062",
   "metadata": {},
   "outputs": [],
   "source": []
  },
  {
   "cell_type": "code",
   "execution_count": 19,
   "id": "3f5fe9f1",
   "metadata": {},
   "outputs": [],
   "source": [
    "# FIPS: Federal Information Processing System\n",
    "# https://www.bls.gov/respondents/mwr/electronic-data-interchange/appendix-d-usps-state-abbreviations-and-fips-codes.htm\n"
   ]
  },
  {
   "cell_type": "markdown",
   "id": "a8a70fe7",
   "metadata": {},
   "source": [
    "### processing geospatial data and making a map"
   ]
  },
  {
   "cell_type": "code",
   "execution_count": null,
   "id": "d158da3b",
   "metadata": {},
   "outputs": [],
   "source": []
  },
  {
   "cell_type": "code",
   "execution_count": null,
   "id": "511e4b79",
   "metadata": {},
   "outputs": [],
   "source": []
  },
  {
   "cell_type": "code",
   "execution_count": null,
   "id": "9939c397",
   "metadata": {},
   "outputs": [],
   "source": []
  },
  {
   "cell_type": "markdown",
   "id": "fa7cfd9f",
   "metadata": {},
   "source": [
    "#### In-class activities 1\n",
    "\n",
    "- Plot the map for lower 48 US states (excluding Alaska and Hawaii). Only plot the boundary. \n",
    "- Extract the MA county information from the county data and only plot for the MA county. "
   ]
  },
  {
   "cell_type": "code",
   "execution_count": null,
   "id": "adb580d6",
   "metadata": {},
   "outputs": [],
   "source": []
  },
  {
   "cell_type": "code",
   "execution_count": null,
   "id": "4609f5bc",
   "metadata": {},
   "outputs": [],
   "source": []
  },
  {
   "cell_type": "code",
   "execution_count": null,
   "id": "b59a98d1",
   "metadata": {},
   "outputs": [],
   "source": []
  },
  {
   "cell_type": "code",
   "execution_count": 20,
   "id": "01ee2b4c",
   "metadata": {},
   "outputs": [],
   "source": [
    "# The FIPS for MA is 25\n"
   ]
  },
  {
   "cell_type": "markdown",
   "id": "310c6fe2",
   "metadata": {},
   "source": [
    "### creating choropleth maps and customization\n",
    "\n",
    "Choropleth maps are a type of thematic map that represent spatial data through color gradients or shading. They use color-coded areas, such as countries, states, or administrative regions, to visualize quantitative data, with darker or lighter shades indicating higher or lower values respectively. "
   ]
  },
  {
   "cell_type": "code",
   "execution_count": null,
   "id": "6da281b7",
   "metadata": {},
   "outputs": [],
   "source": []
  },
  {
   "cell_type": "code",
   "execution_count": 21,
   "id": "0102470c",
   "metadata": {},
   "outputs": [],
   "source": [
    "# https://matplotlib.org/stable/users/explain/colors/colormaps.html\n"
   ]
  },
  {
   "cell_type": "code",
   "execution_count": null,
   "id": "b1510398",
   "metadata": {},
   "outputs": [],
   "source": []
  },
  {
   "cell_type": "markdown",
   "id": "4adbef9a",
   "metadata": {},
   "source": [
    "### Missing values"
   ]
  },
  {
   "cell_type": "code",
   "execution_count": 22,
   "id": "561c3f3b",
   "metadata": {},
   "outputs": [],
   "source": [
    "import numpy as np\n"
   ]
  },
  {
   "cell_type": "code",
   "execution_count": null,
   "id": "563681d1",
   "metadata": {},
   "outputs": [],
   "source": []
  },
  {
   "cell_type": "code",
   "execution_count": null,
   "id": "f57e54a1",
   "metadata": {},
   "outputs": [],
   "source": []
  },
  {
   "cell_type": "code",
   "execution_count": null,
   "id": "8e86a74e",
   "metadata": {},
   "outputs": [],
   "source": []
  },
  {
   "cell_type": "markdown",
   "id": "635b623b",
   "metadata": {},
   "source": [
    "### Adding multiple layers\n",
    "\n",
    "In order to add multiple layers to the map, we need to make the sure the map has the same coordination system. "
   ]
  },
  {
   "cell_type": "code",
   "execution_count": null,
   "id": "ba9be3fb",
   "metadata": {},
   "outputs": [],
   "source": []
  },
  {
   "cell_type": "code",
   "execution_count": 23,
   "id": "1b683bb4",
   "metadata": {},
   "outputs": [],
   "source": [
    "#Marker choices: https://matplotlib.org/stable/api/markers_api.html\n",
    "\n"
   ]
  },
  {
   "cell_type": "markdown",
   "id": "5e51a978",
   "metadata": {},
   "source": [
    "### Creating interactive maps\n",
    "\n",
    "Folium is a Python library that allows for the creation of interactive maps directly within the Jupyter Notebook environment. Leveraging the power of Leaflet.js, Folium enables users to visualize geospatial data and overlay various map elements such as markers, polygons, and heatmaps."
   ]
  },
  {
   "cell_type": "code",
   "execution_count": 25,
   "id": "5340fee7",
   "metadata": {
    "scrolled": true
   },
   "outputs": [],
   "source": [
    "import folium\n"
   ]
  },
  {
   "cell_type": "code",
   "execution_count": null,
   "id": "79a2f40e",
   "metadata": {},
   "outputs": [],
   "source": []
  },
  {
   "cell_type": "code",
   "execution_count": null,
   "id": "8d1a36b1",
   "metadata": {
    "scrolled": true
   },
   "outputs": [],
   "source": []
  },
  {
   "cell_type": "code",
   "execution_count": null,
   "id": "1375cd3f",
   "metadata": {},
   "outputs": [],
   "source": []
  },
  {
   "cell_type": "markdown",
   "id": "5d7ee677",
   "metadata": {},
   "source": [
    "#### In-class activities 2\n",
    "\n",
    "Create an interactive map with the lower 48 states. The color is decided by the Poverty. Also when we move the mouse on one state, the state name shows, and when we click one state, the violent crime number and murder rate show. "
   ]
  },
  {
   "cell_type": "code",
   "execution_count": null,
   "id": "fbd6247f",
   "metadata": {
    "scrolled": true
   },
   "outputs": [],
   "source": []
  },
  {
   "cell_type": "code",
   "execution_count": null,
   "id": "e158e793",
   "metadata": {},
   "outputs": [],
   "source": []
  },
  {
   "cell_type": "markdown",
   "id": "c6bf8448",
   "metadata": {},
   "source": [
    "#### In-class activity 3 (homework)\n",
    "\n",
    "Explore the information on \n",
    "https://www.naturalearthdata.com/downloads/ and download two datasets. For example, a world map as well as world airport locations. Try to plot the two datasets on the same map. Create one static map and customized the colors or marks. Create another interactive map with tooltip and popout functions. "
   ]
  },
  {
   "cell_type": "code",
   "execution_count": null,
   "id": "9b64c52e",
   "metadata": {},
   "outputs": [],
   "source": []
  },
  {
   "cell_type": "code",
   "execution_count": null,
   "id": "e51e3b83",
   "metadata": {},
   "outputs": [],
   "source": []
  },
  {
   "cell_type": "code",
   "execution_count": null,
   "id": "5ff910ef",
   "metadata": {},
   "outputs": [],
   "source": []
  },
  {
   "cell_type": "code",
   "execution_count": null,
   "id": "f3dc9bc7",
   "metadata": {},
   "outputs": [],
   "source": []
  }
 ],
 "metadata": {
  "kernelspec": {
   "display_name": "Python 3 (ipykernel)",
   "language": "python",
   "name": "python3"
  },
  "language_info": {
   "codemirror_mode": {
    "name": "ipython",
    "version": 3
   },
   "file_extension": ".py",
   "mimetype": "text/x-python",
   "name": "python",
   "nbconvert_exporter": "python",
   "pygments_lexer": "ipython3",
   "version": "3.11.7"
  }
 },
 "nbformat": 4,
 "nbformat_minor": 5
}
